{
  "cells": [
    {
      "cell_type": "markdown",
      "metadata": {
        "id": "view-in-github",
        "colab_type": "text"
      },
      "source": [
        "<a href=\"https://colab.research.google.com/github/salma-benzakour/Text-Classification-Judgment-Prediction/blob/main/Model/SVM.ipynb\" target=\"_parent\"><img src=\"https://colab.research.google.com/assets/colab-badge.svg\" alt=\"Open In Colab\"/></a>"
      ]
    },
    {
      "cell_type": "code",
      "execution_count": 5,
      "metadata": {
        "id": "fu8imADmm8Rk"
      },
      "outputs": [],
      "source": [
        "import pickle\n",
        "import numpy as np\n",
        "from sklearn.feature_extraction.text import TfidfVectorizer\n",
        "from sklearn import svm\n",
        "from pprint import pprint\n",
        "from sklearn.model_selection import RandomizedSearchCV\n",
        "from sklearn.model_selection import GridSearchCV\n",
        "from sklearn.metrics import classification_report, confusion_matrix, accuracy_score\n",
        "from sklearn.model_selection import ShuffleSplit\n",
        "import matplotlib.pyplot as plt\n",
        "import seaborn as sns\n",
        "import pandas as pd"
      ]
    },
    {
      "cell_type": "code",
      "execution_count": 6,
      "metadata": {
        "id": "NPPEisgMm8Rm"
      },
      "outputs": [],
      "source": [
        "# Dataframe\n",
        "path_df = \"drive/MyDrive/df1.pickle\"\n",
        "with open(path_df, 'rb') as data:\n",
        "    df = pickle.load(data)\n",
        "\n",
        "# features_train\n",
        "path_features_train = \"drive/MyDrive/features_train.pickle\"\n",
        "with open(path_features_train, 'rb') as data:\n",
        "    features_train = pickle.load(data)\n",
        "\n",
        "# labels_train\n",
        "path_labels_train = \"drive/MyDrive/labels_train.pickle\"\n",
        "with open(path_labels_train, 'rb') as data:\n",
        "    labels_train = pickle.load(data)\n",
        "\n",
        "# features_test\n",
        "path_features_test = \"drive/MyDrive/features_test.pickle\"\n",
        "with open(path_features_test, 'rb') as data:\n",
        "    features_test = pickle.load(data)\n",
        "\n",
        "# labels_test\n",
        "path_labels_test = \"drive/MyDrive/labels_test.pickle\"\n",
        "with open(path_labels_test, 'rb') as data:\n",
        "    labels_test = pickle.load(data)\n",
        "\n"
      ]
    },
    {
      "cell_type": "code",
      "execution_count": 7,
      "metadata": {
        "colab": {
          "base_uri": "https://localhost:8080/"
        },
        "id": "fm06Lt0am8Rn",
        "outputId": "28c677d7-8d2d-43fc-c826-2e16a8eaeb52"
      },
      "outputs": [
        {
          "output_type": "stream",
          "name": "stdout",
          "text": [
            "(3286, 6)\n",
            "(1409, 6)\n"
          ]
        }
      ],
      "source": [
        "print(features_train.shape)\n",
        "print(features_test.shape)"
      ]
    },
    {
      "cell_type": "markdown",
      "metadata": {
        "id": "4DKFP73-m8Rn"
      },
      "source": [
        "## Cross-Validation for Hyperparameter tuning"
      ]
    },
    {
      "cell_type": "code",
      "execution_count": null,
      "metadata": {
        "id": "vnmZn6Yhm8Ro",
        "outputId": "9dbd47f0-67ee-48f9-d1dd-95ad2a1f6422"
      },
      "outputs": [
        {
          "name": "stdout",
          "output_type": "stream",
          "text": [
            "Parameters currently in use:\n",
            "\n",
            "{'C': 1.0,\n",
            " 'cache_size': 200,\n",
            " 'class_weight': None,\n",
            " 'coef0': 0.0,\n",
            " 'decision_function_shape': 'ovr',\n",
            " 'degree': 3,\n",
            " 'gamma': 'auto',\n",
            " 'kernel': 'rbf',\n",
            " 'max_iter': -1,\n",
            " 'probability': False,\n",
            " 'random_state': 8,\n",
            " 'shrinking': True,\n",
            " 'tol': 0.001,\n",
            " 'verbose': False}\n"
          ]
        }
      ],
      "source": [
        "svc_0 =svm.SVC(random_state=8)\n",
        "\n",
        "print('Parameters currently in use:\\n')\n",
        "pprint(svc_0.get_params())"
      ]
    },
    {
      "cell_type": "markdown",
      "metadata": {
        "id": "IQclRPrNm8Rp"
      },
      "source": [
        "### Randomized Search Cross Validation"
      ]
    },
    {
      "cell_type": "code",
      "execution_count": null,
      "metadata": {
        "id": "4spHkhjwm8Rp",
        "outputId": "f25e666e-4017-44f0-e5d1-e3c241fe2061"
      },
      "outputs": [
        {
          "name": "stdout",
          "output_type": "stream",
          "text": [
            "{'C': [0.0001, 0.001, 0.01],\n",
            " 'degree': [1, 2, 3, 4, 5],\n",
            " 'gamma': [0.0001, 0.001, 0.01, 0.1, 1, 10, 100],\n",
            " 'kernel': ['linear', 'rbf', 'poly'],\n",
            " 'probability': [True]}\n"
          ]
        }
      ],
      "source": [
        "# C\n",
        "C = [.0001, .001, .01]\n",
        "\n",
        "# gamma\n",
        "gamma = [.0001, .001, .01, .1, 1, 10, 100]\n",
        "\n",
        "# degree\n",
        "degree = [1, 2, 3, 4, 5]\n",
        "\n",
        "# kernel\n",
        "kernel = ['linear', 'rbf', 'poly']\n",
        "\n",
        "# probability\n",
        "probability = [True]\n",
        "\n",
        "# Create the random grid\n",
        "random_grid = {'C': C,\n",
        "              'kernel': kernel,\n",
        "              'gamma': gamma,\n",
        "              'degree': degree,\n",
        "              'probability': probability\n",
        "             }\n",
        "\n",
        "pprint(random_grid)"
      ]
    },
    {
      "cell_type": "code",
      "execution_count": null,
      "metadata": {
        "id": "EhS_gjXrm8Rq",
        "outputId": "92c31f49-977d-44c9-c64f-30e969655897"
      },
      "outputs": [
        {
          "name": "stdout",
          "output_type": "stream",
          "text": [
            "Fitting 3 folds for each of 50 candidates, totalling 150 fits\n"
          ]
        },
        {
          "name": "stderr",
          "output_type": "stream",
          "text": [
            "[Parallel(n_jobs=1)]: Done 150 out of 150 | elapsed: 16.6min finished\n"
          ]
        },
        {
          "data": {
            "text/plain": [
              "RandomizedSearchCV(cv=3, error_score='raise',\n",
              "          estimator=SVC(C=1.0, cache_size=200, class_weight=None, coef0=0.0,\n",
              "  decision_function_shape='ovr', degree=3, gamma='auto', kernel='rbf',\n",
              "  max_iter=-1, probability=False, random_state=8, shrinking=True,\n",
              "  tol=0.001, verbose=False),\n",
              "          fit_params=None, iid=True, n_iter=50, n_jobs=1,\n",
              "          param_distributions={'C': [0.0001, 0.001, 0.01], 'kernel': ['linear', 'rbf', 'poly'], 'gamma': [0.0001, 0.001, 0.01, 0.1, 1, 10, 100], 'degree': [1, 2, 3, 4, 5], 'probability': [True]},\n",
              "          pre_dispatch='2*n_jobs', random_state=8, refit=True,\n",
              "          return_train_score='warn', scoring='accuracy', verbose=1)"
            ]
          },
          "execution_count": 23,
          "metadata": {},
          "output_type": "execute_result"
        }
      ],
      "source": [
        "# First create the base model to tune\n",
        "svc = svm.SVC(random_state=8)\n",
        "\n",
        "# Definition of the random search\n",
        "random_search = RandomizedSearchCV(estimator=svc,\n",
        "                                   param_distributions=random_grid,\n",
        "                                   n_iter=50,\n",
        "                                   scoring='accuracy',\n",
        "                                   cv=3,\n",
        "                                   verbose=1,\n",
        "                                   random_state=8)\n",
        "\n",
        "# Fit the random search model\n",
        "random_search.fit(features_train, labels_train)"
      ]
    },
    {
      "cell_type": "code",
      "execution_count": null,
      "metadata": {
        "id": "wQ_IyCf5m8Rq",
        "outputId": "db575cc6-39a8-4837-f4b7-797aa9b20b19"
      },
      "outputs": [
        {
          "name": "stdout",
          "output_type": "stream",
          "text": [
            "The best hyperparameters from Random Search are:\n",
            "{'probability': True, 'kernel': 'poly', 'gamma': 10, 'degree': 4, 'C': 0.01}\n",
            "\n",
            "The mean accuracy of a model with these hyperparameters is:\n",
            "0.9212057112638815\n"
          ]
        }
      ],
      "source": [
        "print(\"The best hyperparameters from Random Search are:\")\n",
        "print(random_search.best_params_)\n",
        "print(\"\")\n",
        "print(\"The mean accuracy of a model with these hyperparameters is:\")\n",
        "print(random_search.best_score_)"
      ]
    },
    {
      "cell_type": "markdown",
      "metadata": {
        "id": "MANL__qsm8Rq"
      },
      "source": [
        "### Grid Search Cross Validation"
      ]
    },
    {
      "cell_type": "code",
      "execution_count": null,
      "metadata": {
        "id": "B5_3cEkpm8Rq",
        "outputId": "f24b9de7-e69c-43c5-996b-948a979a580a"
      },
      "outputs": [
        {
          "name": "stdout",
          "output_type": "stream",
          "text": [
            "Fitting 3 folds for each of 28 candidates, totalling 84 fits\n"
          ]
        },
        {
          "name": "stderr",
          "output_type": "stream",
          "text": [
            "[Parallel(n_jobs=1)]: Done  84 out of  84 | elapsed:  9.5min finished\n"
          ]
        },
        {
          "data": {
            "text/plain": [
              "GridSearchCV(cv=ShuffleSplit(n_splits=3, random_state=8, test_size=0.33, train_size=None),\n",
              "       error_score='raise',\n",
              "       estimator=SVC(C=1.0, cache_size=200, class_weight=None, coef0=0.0,\n",
              "  decision_function_shape='ovr', degree=3, gamma='auto', kernel='rbf',\n",
              "  max_iter=-1, probability=False, random_state=8, shrinking=True,\n",
              "  tol=0.001, verbose=False),\n",
              "       fit_params=None, iid=True, n_jobs=1,\n",
              "       param_grid=[{'C': [0.0001, 0.001, 0.01, 0.1], 'kernel': ['linear'], 'probability': [True]}, {'C': [0.0001, 0.001, 0.01, 0.1], 'kernel': ['poly'], 'degree': [3, 4, 5], 'probability': [True]}, {'C': [0.0001, 0.001, 0.01, 0.1], 'kernel': ['rbf'], 'gamma': [1, 10, 100], 'probability': [True]}],\n",
              "       pre_dispatch='2*n_jobs', refit=True, return_train_score='warn',\n",
              "       scoring='accuracy', verbose=1)"
            ]
          },
          "execution_count": 25,
          "metadata": {},
          "output_type": "execute_result"
        }
      ],
      "source": [
        "# Create the parameter grid based on the results of random search\n",
        "C = [.0001, .001, .01, .1]\n",
        "degree = [3, 4, 5]\n",
        "gamma = [1, 10, 100]\n",
        "probability = [True]\n",
        "\n",
        "param_grid = [\n",
        "  {'C': C, 'kernel':['linear'], 'probability':probability},\n",
        "  {'C': C, 'kernel':['poly'], 'degree':degree, 'probability':probability},\n",
        "  {'C': C, 'kernel':['rbf'], 'gamma':gamma, 'probability':probability}\n",
        "]\n",
        "\n",
        "# Create a base model\n",
        "svc = svm.SVC(random_state=8)\n",
        "\n",
        "# Manually create the splits in CV in order to be able to fix a random_state (GridSearchCV doesn't have that argument)\n",
        "cv_sets = ShuffleSplit(n_splits = 3, test_size = .33, random_state = 8)\n",
        "\n",
        "# Instantiate the grid search model\n",
        "grid_search = GridSearchCV(estimator=svc,\n",
        "                           param_grid=param_grid,\n",
        "                           scoring='accuracy',\n",
        "                           cv=cv_sets,\n",
        "                           verbose=1)\n",
        "\n",
        "# Fit the grid search to the data\n",
        "grid_search.fit(features_train, labels_train)"
      ]
    },
    {
      "cell_type": "code",
      "execution_count": null,
      "metadata": {
        "scrolled": true,
        "id": "JxMwAGfYm8Rr",
        "outputId": "41ee44df-ccf2-4c50-c313-49ae415af7b9"
      },
      "outputs": [
        {
          "name": "stdout",
          "output_type": "stream",
          "text": [
            "The best hyperparameters from Grid Search are:\n",
            "{'C': 0.1, 'kernel': 'linear', 'probability': True}\n",
            "\n",
            "The mean accuracy of a model with these hyperparameters is:\n",
            "0.9498666666666666\n"
          ]
        }
      ],
      "source": [
        "print(\"The best hyperparameters from Grid Search are:\")\n",
        "print(grid_search.best_params_)\n",
        "print(\"\")\n",
        "print(\"The mean accuracy of a model with these hyperparameters is:\")\n",
        "print(grid_search.best_score_)"
      ]
    },
    {
      "cell_type": "code",
      "execution_count": null,
      "metadata": {
        "id": "pCesikmLm8Rr"
      },
      "outputs": [],
      "source": [
        "best_svc = grid_search.best_estimator_"
      ]
    },
    {
      "cell_type": "code",
      "execution_count": null,
      "metadata": {
        "id": "F3kG4nqqm8Rr",
        "outputId": "414710c3-9131-4cb8-d4e9-b0532c826920"
      },
      "outputs": [
        {
          "data": {
            "text/plain": [
              "SVC(C=0.1, cache_size=200, class_weight=None, coef0=0.0,\n",
              "  decision_function_shape='ovr', degree=3, gamma='auto', kernel='linear',\n",
              "  max_iter=-1, probability=True, random_state=8, shrinking=True, tol=0.001,\n",
              "  verbose=False)"
            ]
          },
          "execution_count": 28,
          "metadata": {},
          "output_type": "execute_result"
        }
      ],
      "source": [
        "best_svc"
      ]
    },
    {
      "cell_type": "markdown",
      "metadata": {
        "id": "qIEbgwHbm8Rr"
      },
      "source": [
        "## Model fit and performance"
      ]
    },
    {
      "cell_type": "code",
      "execution_count": null,
      "metadata": {
        "id": "Byx5Ip21m8Rr",
        "outputId": "54483901-792f-410d-9c00-4782945043c8"
      },
      "outputs": [
        {
          "data": {
            "text/plain": [
              "SVC(C=0.1, cache_size=200, class_weight=None, coef0=0.0,\n",
              "  decision_function_shape='ovr', degree=3, gamma='auto', kernel='linear',\n",
              "  max_iter=-1, probability=True, random_state=8, shrinking=True, tol=0.001,\n",
              "  verbose=False)"
            ]
          },
          "execution_count": 29,
          "metadata": {},
          "output_type": "execute_result"
        }
      ],
      "source": [
        "best_svc.fit(features_train, labels_train)"
      ]
    },
    {
      "cell_type": "code",
      "execution_count": null,
      "metadata": {
        "id": "LZb46e_km8Rr"
      },
      "outputs": [],
      "source": [
        "svc_pred = best_svc.predict(features_test)"
      ]
    },
    {
      "cell_type": "markdown",
      "metadata": {
        "id": "LJqQruZ5m8Rs"
      },
      "source": [
        "#### Training accuracy"
      ]
    },
    {
      "cell_type": "code",
      "execution_count": null,
      "metadata": {
        "id": "m1H6v_pEm8Rs",
        "outputId": "a32cadc2-b1a0-414a-b9c3-794d3603e5e5"
      },
      "outputs": [
        {
          "name": "stdout",
          "output_type": "stream",
          "text": [
            "The training accuracy is: \n",
            "0.9592808038075092\n"
          ]
        }
      ],
      "source": [
        "# Training accuracy\n",
        "print(\"The training accuracy is: \")\n",
        "print(accuracy_score(labels_train, best_svc.predict(features_train)))"
      ]
    },
    {
      "cell_type": "markdown",
      "metadata": {
        "id": "jR5lrahpm8Rs"
      },
      "source": [
        "#### Test accuracy"
      ]
    },
    {
      "cell_type": "code",
      "execution_count": null,
      "metadata": {
        "id": "tH_Ecw6xm8Rs",
        "outputId": "8a986ab6-e255-4a03-dbd2-3af2dff6a61d"
      },
      "outputs": [
        {
          "name": "stdout",
          "output_type": "stream",
          "text": [
            "The test accuracy is: \n",
            "0.9401197604790419\n"
          ]
        }
      ],
      "source": [
        "# Test accuracy\n",
        "print(\"The test accuracy is: \")\n",
        "print(accuracy_score(labels_test, svc_pred))"
      ]
    },
    {
      "cell_type": "markdown",
      "metadata": {
        "id": "wA5iwayum8Rs"
      },
      "source": [
        "#### Classification report"
      ]
    },
    {
      "cell_type": "code",
      "execution_count": null,
      "metadata": {
        "id": "sqY5ctDRm8Rs",
        "outputId": "3089b63c-d088-4980-c8fa-5fd47af6d275"
      },
      "outputs": [
        {
          "name": "stdout",
          "output_type": "stream",
          "text": [
            "Classification report\n",
            "             precision    recall  f1-score   support\n",
            "\n",
            "          0       0.88      0.98      0.92        81\n",
            "          1       0.96      0.94      0.95        49\n",
            "          2       0.97      0.89      0.93        72\n",
            "          3       0.99      0.99      0.99        72\n",
            "          4       0.93      0.90      0.92        60\n",
            "\n",
            "avg / total       0.94      0.94      0.94       334\n",
            "\n"
          ]
        }
      ],
      "source": [
        "# Classification report\n",
        "print(\"Classification report\")\n",
        "print(classification_report(labels_test,svc_pred))"
      ]
    },
    {
      "cell_type": "code",
      "execution_count": null,
      "metadata": {
        "id": "79rE2srnm8Rw",
        "outputId": "513b711d-a2ed-4d21-88ea-91a2cc1acce6"
      },
      "outputs": [
        {
          "data": {
            "text/plain": [
              "0.2155688622754491"
            ]
          },
          "execution_count": 35,
          "metadata": {},
          "output_type": "execute_result"
        }
      ],
      "source": [
        "base_model = svm.SVC(random_state = 8)\n",
        "base_model.fit(features_train, labels_train)\n",
        "accuracy_score(labels_test, base_model.predict(features_test))"
      ]
    },
    {
      "cell_type": "code",
      "execution_count": null,
      "metadata": {
        "scrolled": true,
        "id": "Ze32VpNdm8Rw",
        "outputId": "031b9045-589c-4b5d-c0cf-58ce5c53c5f5"
      },
      "outputs": [
        {
          "data": {
            "text/plain": [
              "0.9401197604790419"
            ]
          },
          "execution_count": 36,
          "metadata": {},
          "output_type": "execute_result"
        }
      ],
      "source": [
        "best_svc.fit(features_train, labels_train)\n",
        "accuracy_score(labels_test, best_svc.predict(features_test))"
      ]
    },
    {
      "cell_type": "code",
      "execution_count": null,
      "metadata": {
        "id": "dQw2XwOwm8Rx"
      },
      "outputs": [],
      "source": [
        "d = {\n",
        "     'Model': 'SVM',\n",
        "     'Training Set Accuracy': accuracy_score(labels_train, best_svc.predict(features_train)),\n",
        "     'Test Set Accuracy': accuracy_score(labels_test, svc_pred)\n",
        "}\n",
        "\n",
        "df_models_svc = pd.DataFrame(d, index=[0])"
      ]
    },
    {
      "cell_type": "code",
      "execution_count": null,
      "metadata": {
        "id": "7YatQJWgm8Rx",
        "outputId": "3a9ef4ac-1256-4c5c-97ac-36e864cb9f1b"
      },
      "outputs": [
        {
          "data": {
            "text/html": [
              "<div>\n",
              "<style scoped>\n",
              "    .dataframe tbody tr th:only-of-type {\n",
              "        vertical-align: middle;\n",
              "    }\n",
              "\n",
              "    .dataframe tbody tr th {\n",
              "        vertical-align: top;\n",
              "    }\n",
              "\n",
              "    .dataframe thead th {\n",
              "        text-align: right;\n",
              "    }\n",
              "</style>\n",
              "<table border=\"1\" class=\"dataframe\">\n",
              "  <thead>\n",
              "    <tr style=\"text-align: right;\">\n",
              "      <th></th>\n",
              "      <th>Model</th>\n",
              "      <th>Training Set Accuracy</th>\n",
              "      <th>Test Set Accuracy</th>\n",
              "    </tr>\n",
              "  </thead>\n",
              "  <tbody>\n",
              "    <tr>\n",
              "      <th>0</th>\n",
              "      <td>SVM</td>\n",
              "      <td>0.959281</td>\n",
              "      <td>0.94012</td>\n",
              "    </tr>\n",
              "  </tbody>\n",
              "</table>\n",
              "</div>"
            ],
            "text/plain": [
              "  Model  Training Set Accuracy  Test Set Accuracy\n",
              "0   SVM               0.959281            0.94012"
            ]
          },
          "execution_count": 38,
          "metadata": {},
          "output_type": "execute_result"
        }
      ],
      "source": [
        "df_models_svc"
      ]
    },
    {
      "cell_type": "code",
      "execution_count": null,
      "metadata": {
        "id": "JUzC-v1Wm8Rx"
      },
      "outputs": [],
      "source": [
        "with open('Models/best_svc.pickle', 'wb') as output:\n",
        "    pickle.dump(best_svc, output)\n",
        "\n",
        "with open('Models/df_models_svc.pickle', 'wb') as output:\n",
        "    pickle.dump(df_models_svc, output)"
      ]
    }
  ],
  "metadata": {
    "kernelspec": {
      "display_name": "Python 3",
      "language": "python",
      "name": "python3"
    },
    "language_info": {
      "codemirror_mode": {
        "name": "ipython",
        "version": 3
      },
      "file_extension": ".py",
      "mimetype": "text/x-python",
      "name": "python",
      "nbconvert_exporter": "python",
      "pygments_lexer": "ipython3",
      "version": "3.7.1"
    },
    "colab": {
      "provenance": [],
      "include_colab_link": true
    }
  },
  "nbformat": 4,
  "nbformat_minor": 0
}